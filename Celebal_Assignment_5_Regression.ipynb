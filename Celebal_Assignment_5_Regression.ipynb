{
  "metadata": {
    "kernelspec": {
      "language": "python",
      "display_name": "Python 3",
      "name": "python3"
    },
    "language_info": {
      "name": "python",
      "version": "3.11.11",
      "mimetype": "text/x-python",
      "codemirror_mode": {
        "name": "ipython",
        "version": 3
      },
      "pygments_lexer": "ipython3",
      "nbconvert_exporter": "python",
      "file_extension": ".py"
    },
    "kaggle": {
      "accelerator": "none",
      "dataSources": [
        {
          "sourceId": 5407,
          "databundleVersionId": 868283,
          "sourceType": "competition"
        }
      ],
      "dockerImageVersionId": 31040,
      "isInternetEnabled": true,
      "language": "python",
      "sourceType": "notebook",
      "isGpuEnabled": false
    },
    "colab": {
      "name": "Celebal Assignment 5 - Regression",
      "provenance": []
    }
  },
  "nbformat_minor": 0,
  "nbformat": 4,
  "cells": [
    {
      "cell_type": "code",
      "source": [
        "import numpy as np # linear algebra\n",
        "import pandas as pd # data processing, CSV file I/O (e.g. pd.read_csv)\n",
        "\n",
        "\n",
        "import os\n",
        "for dirname, _, filenames in os.walk('/kaggle/input'):\n",
        "    for filename in filenames:\n",
        "        print(os.path.join(dirname, filename))\n"
      ],
      "metadata": {
        "_uuid": "8f2839f25d086af736a60e9eeb907d3b93b6e0e5",
        "_cell_guid": "b1076dfc-b9ad-4769-8c92-a6c4dae69d19",
        "trusted": true,
        "execution": {
          "iopub.status.busy": "2025-07-06T08:55:35.51559Z",
          "iopub.execute_input": "2025-07-06T08:55:35.515915Z",
          "iopub.status.idle": "2025-07-06T08:55:35.523987Z",
          "shell.execute_reply.started": "2025-07-06T08:55:35.515891Z",
          "shell.execute_reply": "2025-07-06T08:55:35.522647Z"
        },
        "id": "lhf-B59fpNOZ"
      },
      "outputs": [],
      "execution_count": null
    },
    {
      "cell_type": "code",
      "source": [
        "train_df = pd.read_csv(\"/content/data_description.txt\")\n",
        "test_df = pd.read_csv(\"/content/data_description.txt\")\n",
        "train_df.head()"
      ],
      "metadata": {
        "trusted": true,
        "execution": {
          "iopub.status.busy": "2025-07-06T08:55:35.52808Z",
          "iopub.execute_input": "2025-07-06T08:55:35.528405Z",
          "iopub.status.idle": "2025-07-06T08:55:35.59618Z",
          "shell.execute_reply.started": "2025-07-06T08:55:35.528383Z",
          "shell.execute_reply": "2025-07-06T08:55:35.595143Z"
        },
        "id": "5jLQlRRApNOd"
      },
      "outputs": [],
      "execution_count": null
    },
    {
      "cell_type": "code",
      "source": [
        "train_df.describe()"
      ],
      "metadata": {
        "trusted": true,
        "execution": {
          "iopub.status.busy": "2025-07-06T08:55:35.598057Z",
          "iopub.execute_input": "2025-07-06T08:55:35.598371Z",
          "iopub.status.idle": "2025-07-06T08:55:35.678646Z",
          "shell.execute_reply.started": "2025-07-06T08:55:35.598346Z",
          "shell.execute_reply": "2025-07-06T08:55:35.677648Z"
        },
        "id": "zZEkO1BvpNOg"
      },
      "outputs": [],
      "execution_count": null
    },
    {
      "cell_type": "code",
      "source": [
        "train_df.info()"
      ],
      "metadata": {
        "trusted": true,
        "execution": {
          "iopub.status.busy": "2025-07-06T08:55:35.679447Z",
          "iopub.execute_input": "2025-07-06T08:55:35.679729Z",
          "iopub.status.idle": "2025-07-06T08:55:35.698799Z",
          "shell.execute_reply.started": "2025-07-06T08:55:35.679708Z",
          "shell.execute_reply": "2025-07-06T08:55:35.697798Z"
        },
        "id": "0fiEfIDJpNOh"
      },
      "outputs": [],
      "execution_count": null
    },
    {
      "cell_type": "markdown",
      "source": [
        "## 🔍 Exploratory Data Analysis (EDA)\n",
        "We'll begin by checking the distribution of the target variable and identifying missing values.\n"
      ],
      "metadata": {
        "id": "mTp9Lgq2pNOj"
      }
    },
    {
      "cell_type": "code",
      "source": [
        "import warnings\n",
        "import seaborn as sns\n",
        "import matplotlib.pyplot as plt\n",
        "\n",
        "warnings.filterwarnings(\"ignore\")\n",
        "sns.set_style(\"whitegrid\")\n"
      ],
      "metadata": {
        "trusted": true,
        "execution": {
          "iopub.status.busy": "2025-07-06T08:55:35.700842Z",
          "iopub.execute_input": "2025-07-06T08:55:35.701144Z",
          "iopub.status.idle": "2025-07-06T08:55:35.716843Z",
          "shell.execute_reply.started": "2025-07-06T08:55:35.701121Z",
          "shell.execute_reply": "2025-07-06T08:55:35.715688Z"
        },
        "id": "CQmOgNPppNOm"
      },
      "outputs": [],
      "execution_count": null
    },
    {
      "cell_type": "code",
      "source": [
        "# Distribution of the target variable\n",
        "sns.histplot(train_df['SalePrice'], kde=True)\n",
        "plt.title(\"SalePrice Distribution\")\n",
        "plt.show()\n",
        "\n",
        "# Log-transform if needed\n",
        "train_df[\"SalePrice\"] = np.log1p(train_df[\"SalePrice\"])\n",
        "\n",
        "# Check missing values\n",
        "missing = train_df.isnull().sum()\n",
        "missing = missing[missing > 0].sort_values(ascending=False)\n",
        "missing.head(20)"
      ],
      "metadata": {
        "trusted": true,
        "execution": {
          "iopub.status.busy": "2025-07-06T08:55:35.717791Z",
          "iopub.execute_input": "2025-07-06T08:55:35.718044Z",
          "iopub.status.idle": "2025-07-06T08:55:36.13523Z",
          "shell.execute_reply.started": "2025-07-06T08:55:35.718023Z",
          "shell.execute_reply": "2025-07-06T08:55:36.134313Z"
        },
        "id": "KbnYHcg9pNOo"
      },
      "outputs": [],
      "execution_count": null
    },
    {
      "cell_type": "code",
      "source": [
        "import numpy as np\n",
        "import seaborn as sns\n",
        "import matplotlib.pyplot as plt\n",
        "\n",
        "# Log transform the target variable\n",
        "log_saleprice = np.log1p(train_df['SalePrice'])\n",
        "\n",
        "# Plot\n",
        "sns.displot(log_saleprice, kde=True)\n",
        "plt.title(\"Log-Transformed SalePrice Distribution\")\n",
        "plt.xlabel(\"Log(SalePrice)\")\n",
        "plt.show()"
      ],
      "metadata": {
        "trusted": true,
        "execution": {
          "iopub.status.busy": "2025-07-06T08:55:36.136538Z",
          "iopub.execute_input": "2025-07-06T08:55:36.136966Z",
          "iopub.status.idle": "2025-07-06T08:55:36.662048Z",
          "shell.execute_reply.started": "2025-07-06T08:55:36.136935Z",
          "shell.execute_reply": "2025-07-06T08:55:36.660902Z"
        },
        "id": "5bjL8ReZpNOr"
      },
      "outputs": [],
      "execution_count": null
    },
    {
      "cell_type": "code",
      "source": [
        "train_df['SalePrice'] = np.log1p(train_df['SalePrice'])\n",
        "sns.histplot(train_df['SalePrice'],kde=True)\n",
        "plt.show()"
      ],
      "metadata": {
        "trusted": true,
        "execution": {
          "iopub.status.busy": "2025-07-06T08:55:36.663166Z",
          "iopub.execute_input": "2025-07-06T08:55:36.663551Z",
          "iopub.status.idle": "2025-07-06T08:55:37.018667Z",
          "shell.execute_reply.started": "2025-07-06T08:55:36.663528Z",
          "shell.execute_reply": "2025-07-06T08:55:37.017527Z"
        },
        "id": "rjCTUidApNOs"
      },
      "outputs": [],
      "execution_count": null
    },
    {
      "cell_type": "code",
      "source": [
        "# Import necessary libraries\n",
        "import pandas as pd\n",
        "import matplotlib.pyplot as plt\n",
        "from scipy.stats import probplot\n",
        "\n",
        "# Assuming train_df is already loaded and contains 'SalePrice'\n",
        "# QQ Plot\n",
        "probplot(train_df['SalePrice'], plot=plt)\n",
        "plt.show()\n"
      ],
      "metadata": {
        "trusted": true,
        "execution": {
          "iopub.status.busy": "2025-07-06T08:55:37.01988Z",
          "iopub.execute_input": "2025-07-06T08:55:37.02018Z",
          "iopub.status.idle": "2025-07-06T08:55:37.3161Z",
          "shell.execute_reply.started": "2025-07-06T08:55:37.020159Z",
          "shell.execute_reply": "2025-07-06T08:55:37.314887Z"
        },
        "id": "n83EOQ2npNOu"
      },
      "outputs": [],
      "execution_count": null
    },
    {
      "cell_type": "code",
      "source": [
        "# Select only numerical columns from the training data\n",
        "df_num = train_df.select_dtypes(include=[np.number])\n",
        "\n",
        "# Compute correlation matrix\n",
        "corr = df_num.corr()\n",
        "\n",
        "# Plot the heatmap\n",
        "plt.figure(figsize=(12, 8))\n",
        "sns.heatmap(corr, vmax=1.0, square=True, cmap='coolwarm', annot=True)\n",
        "plt.title(\"Correlation Matrix of Numerical Features\")\n",
        "plt.show()"
      ],
      "metadata": {
        "trusted": true,
        "execution": {
          "iopub.status.busy": "2025-07-06T08:55:37.319175Z",
          "iopub.execute_input": "2025-07-06T08:55:37.319468Z",
          "iopub.status.idle": "2025-07-06T08:55:41.000909Z",
          "shell.execute_reply.started": "2025-07-06T08:55:37.319445Z",
          "shell.execute_reply": "2025-07-06T08:55:40.999665Z"
        },
        "id": "l9X_rBHopNOw"
      },
      "outputs": [],
      "execution_count": null
    },
    {
      "cell_type": "code",
      "source": [
        "df_num.hist(figsize=(16, 20), bins=50, xlabelsize=8, ylabelsize=8);\n",
        "plt.show()"
      ],
      "metadata": {
        "trusted": true,
        "execution": {
          "iopub.status.busy": "2025-07-06T08:55:41.001852Z",
          "iopub.execute_input": "2025-07-06T08:55:41.002121Z",
          "iopub.status.idle": "2025-07-06T08:55:50.189442Z",
          "shell.execute_reply.started": "2025-07-06T08:55:41.002102Z",
          "shell.execute_reply": "2025-07-06T08:55:50.188363Z"
        },
        "id": "JzQ9nS2DpNOx"
      },
      "outputs": [],
      "execution_count": null
    },
    {
      "cell_type": "markdown",
      "source": [
        "### Handling Missing values"
      ],
      "metadata": {
        "id": "Urt2cPMFpNOy"
      }
    },
    {
      "cell_type": "code",
      "source": [
        "# Combine train and test data for preprocessing\n",
        "train_labels = train_df['SalePrice']\n",
        "train_df = train_df.drop(['SalePrice'], axis=1)\n",
        "\n",
        "# Concatenate train and test\n",
        "all_data = pd.concat([train_df, test_df], axis=0)\n"
      ],
      "metadata": {
        "trusted": true,
        "execution": {
          "iopub.status.busy": "2025-07-06T08:55:50.190474Z",
          "iopub.execute_input": "2025-07-06T08:55:50.190797Z",
          "iopub.status.idle": "2025-07-06T08:55:50.20264Z",
          "shell.execute_reply.started": "2025-07-06T08:55:50.190773Z",
          "shell.execute_reply": "2025-07-06T08:55:50.201625Z"
        },
        "id": "RvBR8q0MpNOz"
      },
      "outputs": [],
      "execution_count": null
    },
    {
      "cell_type": "code",
      "source": [
        "null_columns = all_data.columns[all_data.isna().any()]\n",
        "columns_with_null =all_data[null_columns]\n",
        "nullcounts = columns_with_null.isna().sum().sort_values(ascending=False)\n",
        "\n",
        "# usually we ignore the columns when percentage of null values exceeds than 25%\n",
        "null_percent = (nullcounts/len(all_data)) * 100\n",
        "null_percent_df = pd.DataFrame({\"Total\":nullcounts,\"Missing Ratio\":null_percent})\n",
        "null_percent_df"
      ],
      "metadata": {
        "trusted": true,
        "execution": {
          "iopub.status.busy": "2025-07-06T08:55:50.203943Z",
          "iopub.execute_input": "2025-07-06T08:55:50.204227Z",
          "iopub.status.idle": "2025-07-06T08:55:50.245903Z",
          "shell.execute_reply.started": "2025-07-06T08:55:50.204208Z",
          "shell.execute_reply": "2025-07-06T08:55:50.244826Z"
        },
        "id": "FzWRXgjfpNO0"
      },
      "outputs": [],
      "execution_count": null
    },
    {
      "cell_type": "code",
      "source": [
        "#visualizing the missing value by percentage\n",
        "plt.figure(figsize=(12,10))\n",
        "plt.xticks(rotation=90)\n",
        "sns.barplot(y=null_percent,x =null_percent.index )\n",
        "plt.xlabel('Missing values ',fontsize=15)\n",
        "plt.ylabel('Percent of Missing value',fontsize=15)\n",
        "plt.title('Percentage of Missing value for each Features',fontsize = 30)\n",
        "plt.show()"
      ],
      "metadata": {
        "trusted": true,
        "execution": {
          "iopub.status.busy": "2025-07-06T08:55:50.246829Z",
          "iopub.execute_input": "2025-07-06T08:55:50.247284Z",
          "iopub.status.idle": "2025-07-06T08:55:51.127744Z",
          "shell.execute_reply.started": "2025-07-06T08:55:50.247195Z",
          "shell.execute_reply": "2025-07-06T08:55:51.126407Z"
        },
        "id": "0kjGx92LpNO1"
      },
      "outputs": [],
      "execution_count": null
    },
    {
      "cell_type": "code",
      "source": [
        "# Handle categorical columns\n",
        "categorical_cols = all_data.select_dtypes(include='object').columns\n",
        "all_data[categorical_cols] = all_data[categorical_cols].fillna(\"NA\")\n",
        "\n",
        "# Handle numerical columns\n",
        "numerical_cols = all_data.select_dtypes(include=['int64', 'float64']).columns\n",
        "for col in numerical_cols:\n",
        "    if all_data[col].isna().sum() > 0:\n",
        "        all_data[col] = all_data[col].fillna(all_data[col].median())"
      ],
      "metadata": {
        "trusted": true,
        "execution": {
          "iopub.status.busy": "2025-07-06T08:55:51.12887Z",
          "iopub.execute_input": "2025-07-06T08:55:51.129261Z",
          "iopub.status.idle": "2025-07-06T08:55:51.172499Z",
          "shell.execute_reply.started": "2025-07-06T08:55:51.129239Z",
          "shell.execute_reply": "2025-07-06T08:55:51.171318Z"
        },
        "id": "YmWwIFxMpNO2"
      },
      "outputs": [],
      "execution_count": null
    },
    {
      "cell_type": "markdown",
      "source": [
        "### Model Training and Visualization"
      ],
      "metadata": {
        "id": "BQWpM2fKpNO3"
      }
    },
    {
      "cell_type": "code",
      "source": [
        "import pandas as pd\n",
        "import numpy as np\n",
        "\n",
        "# Load the datasets\n",
        "train_df = pd.read_csv(\"/kaggle/input/house-prices-advanced-regression-techniques/train.csv\")\n",
        "test_df = pd.read_csv(\"/kaggle/input/house-prices-advanced-regression-techniques/test.csv\")\n"
      ],
      "metadata": {
        "trusted": true,
        "execution": {
          "iopub.status.busy": "2025-07-06T08:55:51.173644Z",
          "iopub.execute_input": "2025-07-06T08:55:51.173928Z",
          "iopub.status.idle": "2025-07-06T08:55:51.212705Z",
          "shell.execute_reply.started": "2025-07-06T08:55:51.173901Z",
          "shell.execute_reply": "2025-07-06T08:55:51.211628Z"
        },
        "id": "q7kEfCVxpNO3"
      },
      "outputs": [],
      "execution_count": null
    },
    {
      "cell_type": "code",
      "source": [
        "print(train_df.columns)  # See if 'SalePrice' is there\n"
      ],
      "metadata": {
        "trusted": true,
        "execution": {
          "iopub.status.busy": "2025-07-06T08:55:51.213814Z",
          "iopub.execute_input": "2025-07-06T08:55:51.214145Z",
          "iopub.status.idle": "2025-07-06T08:55:51.220529Z",
          "shell.execute_reply.started": "2025-07-06T08:55:51.214121Z",
          "shell.execute_reply": "2025-07-06T08:55:51.219043Z"
        },
        "id": "EUFrG_fMpNO3"
      },
      "outputs": [],
      "execution_count": null
    },
    {
      "cell_type": "code",
      "source": [
        "# Store target and IDs\n",
        "y = np.log1p(train_df['SalePrice'])  # log-transform SalePrice\n",
        "test_ID = test_df['Id']\n",
        "\n",
        "# Drop Id and SalePrice\n",
        "X = train_df.drop(['Id', 'SalePrice'], axis=1)\n",
        "X_test = test_df.drop(['Id'], axis=1)\n",
        "\n",
        "# Combine for preprocessing\n",
        "all_data = pd.concat([X, X_test], axis=0)\n",
        "\n",
        "# Fill missing values\n",
        "categorical_cols = all_data.select_dtypes(include='object').columns\n",
        "numerical_cols = all_data.select_dtypes(include=['int64', 'float64']).columns\n",
        "\n",
        "all_data[categorical_cols] = all_data[categorical_cols].fillna(\"NA\")\n",
        "all_data[numerical_cols] = all_data[numerical_cols].apply(lambda col: col.fillna(col.median()))\n",
        "\n",
        "# One-hot encode\n",
        "all_data = pd.get_dummies(all_data)\n",
        "\n",
        "# Feature scaling\n",
        "from sklearn.preprocessing import StandardScaler\n",
        "scaler = StandardScaler()\n",
        "all_data_scaled = pd.DataFrame(scaler.fit_transform(all_data), columns=all_data.columns)\n",
        "\n",
        "# Split back to train and test\n",
        "X_all = all_data_scaled.iloc[:len(y), :]\n",
        "X_final_test = all_data_scaled.iloc[len(y):, :]\n"
      ],
      "metadata": {
        "trusted": true,
        "execution": {
          "iopub.status.busy": "2025-07-06T08:55:51.22162Z",
          "iopub.execute_input": "2025-07-06T08:55:51.22197Z",
          "iopub.status.idle": "2025-07-06T08:55:51.377235Z",
          "shell.execute_reply.started": "2025-07-06T08:55:51.221947Z",
          "shell.execute_reply": "2025-07-06T08:55:51.376301Z"
        },
        "id": "7Oe2ewC2pNO4"
      },
      "outputs": [],
      "execution_count": null
    },
    {
      "cell_type": "code",
      "source": [
        "# ==== STEP 4: One-Hot Encoding ====\n",
        "all_data = pd.get_dummies(all_data)\n",
        "\n",
        "# ==== STEP 5: Feature Scaling ====\n",
        "from sklearn.preprocessing import StandardScaler\n",
        "scaler = StandardScaler()\n",
        "all_data_scaled = pd.DataFrame(scaler.fit_transform(all_data), columns=all_data.columns)\n",
        "\n",
        "# ==== STEP 6: Re-split into train and test ====\n",
        "X_all = all_data_scaled.iloc[:len(y), :]\n",
        "X_final_test = all_data_scaled.iloc[len(y):, :]\n",
        "\n",
        "# ==== STEP 7: Train/Validation Split ====\n",
        "from sklearn.model_selection import train_test_split\n",
        "X_train, X_valid, y_train, y_valid = train_test_split(X_all, y, test_size=0.2, random_state=42)\n",
        "\n",
        "# ==== STEP 8: Model Evaluation Function ====\n",
        "from sklearn.metrics import r2_score, mean_squared_error, mean_absolute_error\n",
        "import numpy as np\n",
        "\n",
        "def model_evaluation(y_test, y_pred, tolerance=0.1):\n",
        "    r2 = r2_score(y_test, y_pred)\n",
        "    mse = mean_squared_error(y_test, y_pred)\n",
        "    mae = mean_absolute_error(y_test, y_pred)\n",
        "    rmse = np.sqrt(mse)\n",
        "    within_tolerance = np.abs(y_test - y_pred) <= (tolerance * y_test)\n",
        "    accuracy = np.mean(within_tolerance) * 100\n",
        "\n",
        "    print(\"\\n📊 Model Evaluation Summary\")\n",
        "    print(\"--------------------------------------\")\n",
        "    print(f\"✅ R² Score       : {r2:.4f}\")\n",
        "    print(f\"📉 MSE            : {mse:.4f}\")\n",
        "    print(f\"📉 MAE            : {mae:.4f}\")\n",
        "    print(f\"📉 RMSE           : {rmse:.4f}\")\n",
        "    print(f\"🎯 Accuracy (±{int(tolerance * 100)}%) : {accuracy:.2f}%\")\n",
        "    print(\"--------------------------------------\")\n"
      ],
      "metadata": {
        "trusted": true,
        "execution": {
          "iopub.status.busy": "2025-07-06T08:55:51.378217Z",
          "iopub.execute_input": "2025-07-06T08:55:51.378484Z",
          "iopub.status.idle": "2025-07-06T08:55:51.439422Z",
          "shell.execute_reply.started": "2025-07-06T08:55:51.378463Z",
          "shell.execute_reply": "2025-07-06T08:55:51.438616Z"
        },
        "id": "QyvFoOszpNO5"
      },
      "outputs": [],
      "execution_count": null
    },
    {
      "cell_type": "code",
      "source": [
        "from sklearn.pipeline import Pipeline\n",
        "from sklearn.preprocessing import PolynomialFeatures\n",
        "from sklearn.linear_model import LinearRegression\n",
        "\n",
        "# No tuning, just 1st-degree poly features\n",
        "best_linear_model = Pipeline([\n",
        "    ('poly', PolynomialFeatures(degree=1, include_bias=False)),\n",
        "    ('linreg', LinearRegression(fit_intercept=True))\n",
        "])\n",
        "\n",
        "best_linear_model.fit(X_train, y_train)\n",
        "y_pred_valid = best_linear_model.predict(X_valid)\n",
        "\n",
        "# Evaluation\n",
        "model_evaluation(y_valid, y_pred_valid)\n"
      ],
      "metadata": {
        "trusted": true,
        "execution": {
          "iopub.status.busy": "2025-07-06T08:55:51.440414Z",
          "iopub.execute_input": "2025-07-06T08:55:51.441329Z",
          "iopub.status.idle": "2025-07-06T08:55:51.522413Z",
          "shell.execute_reply.started": "2025-07-06T08:55:51.441294Z",
          "shell.execute_reply": "2025-07-06T08:55:51.520536Z"
        },
        "id": "H83nOGdbpNO6"
      },
      "outputs": [],
      "execution_count": null
    },
    {
      "cell_type": "code",
      "source": [
        "from sklearn.ensemble import StackingRegressor\n",
        "from sklearn.linear_model import Ridge, Lasso\n",
        "\n",
        "# Lighter set of base learners\n",
        "estimators = [\n",
        "    ('ridge', Ridge(alpha=10)),\n",
        "    ('lasso', Lasso(alpha=0.001, max_iter=10000)),\n",
        "    ('linear', best_linear_model)\n",
        "]\n",
        "\n",
        "stack = StackingRegressor(\n",
        "    estimators=estimators,\n",
        "    final_estimator=Ridge(alpha=5),\n",
        "    n_jobs=-1\n",
        ")\n",
        "\n",
        "stack.fit(X_train, y_train)\n",
        "y_pred_valid_stack = stack.predict(X_valid)\n",
        "\n",
        "# Evaluation\n",
        "print(\"\\n🔁 Stacking Regressor Performance:\")\n",
        "model_evaluation(y_valid, y_pred_valid_stack)\n"
      ],
      "metadata": {
        "trusted": true,
        "execution": {
          "iopub.status.busy": "2025-07-06T08:55:51.523157Z",
          "iopub.execute_input": "2025-07-06T08:55:51.523434Z",
          "iopub.status.idle": "2025-07-06T08:55:52.355681Z",
          "shell.execute_reply.started": "2025-07-06T08:55:51.52341Z",
          "shell.execute_reply": "2025-07-06T08:55:52.354703Z"
        },
        "id": "rVscYW7JpNO6"
      },
      "outputs": [],
      "execution_count": null
    },
    {
      "cell_type": "markdown",
      "source": [
        "### Submission"
      ],
      "metadata": {
        "id": "j4YErxyspNO7"
      }
    },
    {
      "cell_type": "code",
      "source": [
        "# Predict on the final test set\n",
        "y_pred_test = stack.predict(X_final_test)\n",
        "\n",
        "# Convert from log scale back to actual prices\n",
        "y_pred_test = np.expm1(y_pred_test)\n",
        "\n",
        "# Prepare submission\n",
        "submission = pd.DataFrame({'Id': test_ID, 'SalePrice': y_pred_test})\n",
        "submission.to_csv('submission.csv', index=False)\n",
        "print(\"✅ Submission file saved as 'submission.csv'\")\n"
      ],
      "metadata": {
        "trusted": true,
        "execution": {
          "iopub.status.busy": "2025-07-06T08:55:52.356623Z",
          "iopub.execute_input": "2025-07-06T08:55:52.356942Z",
          "iopub.status.idle": "2025-07-06T08:55:52.391753Z",
          "shell.execute_reply.started": "2025-07-06T08:55:52.356919Z",
          "shell.execute_reply": "2025-07-06T08:55:52.390454Z"
        },
        "id": "zBQheSvJpNO8"
      },
      "outputs": [],
      "execution_count": null
    },
    {
      "cell_type": "code",
      "source": [],
      "metadata": {
        "trusted": true,
        "id": "gvMw7b2ypNO8"
      },
      "outputs": [],
      "execution_count": null
    }
  ]
}